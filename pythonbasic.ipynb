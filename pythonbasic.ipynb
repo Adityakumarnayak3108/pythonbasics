{
  "nbformat": 4,
  "nbformat_minor": 0,
  "metadata": {
    "colab": {
      "provenance": []
    },
    "kernelspec": {
      "name": "python3",
      "display_name": "Python 3"
    },
    "language_info": {
      "name": "python"
    }
  },
  "cells": [
    {
      "cell_type": "code",
      "execution_count": null,
      "metadata": {
        "id": "xSIUvVHVvKEx"
      },
      "outputs": [],
      "source": []
    },
    {
      "cell_type": "markdown",
      "source": [
        "#PythonBasics\n",
        "\n",
        "\n",
        "\n",
        "1. What is Python, and why is it popular ?\n",
        "\n",
        "  * Python is a high-level, interpreted programming language known for its clear syntax and versatility.\n",
        "\n",
        "    Easy to Learn and Use:\n",
        "\n",
        "    - Simple, readable syntax\n",
        "    - Great for beginners and professionals alike\n",
        "\n",
        "     Versatile:\n",
        "    - Used in many domains: web development,  data science, AI/ML, automation, scripting, game development.\n",
        "\n",
        "\n",
        "2.   What is an interpreter in Python?\n",
        "\n",
        "  * An interpreter in Python is a program that reads, processes, and executes Python code line by line.The Python interpreter converts your code into machine-level instructions at runtime.\n",
        "  It executes the code one line at a time, making it easier to debug and test.\n",
        "\n",
        "\n",
        "\n",
        "3. What are pre-defined keywords in Python?\n",
        "\n",
        " *  Pre-defined keywords in Python are reserved words that have special meanings and are used to define the syntax and structure of Python programs.Each keyword performs a specific function in Python’s logic or structure.\n",
        "\n",
        "\n",
        "4. Can keywords be used as variable names?\n",
        "\n",
        " * No, keywords cannot be used as variable names in Python.\n",
        "\n",
        "\n",
        "5. What is mutability in Python ?\n",
        "\n",
        "  *  In Python, objects can be either changeable (modifiable) or unchangeable (unchangeable).\n",
        "  Mutable objects, such as lists and dictionaries, can be modified after creation, while immutable objects, such as tuples and strings, cannot.\n",
        "\n",
        "6. Why are lists mutable, but tuples are immutable ?\n",
        "\n",
        "  * Lists are used for dynamic collections of items.They're meant to be modified frequently.\n",
        "  whereas,\n",
        "Once a tuple is created, its contents cannot be changed.\n",
        "\n",
        "7. What is the difference between “==” and “is” operators in Python?\n",
        "\n",
        "  * (Equality Operator)\n",
        "Checks if the values of two variables are equal.\n",
        "It compares the contents of the variables.\n",
        "  * (Identity Operator)\n",
        "Checks if two variables refer to the exact same object in memory.\n",
        "It compares the object IDs.\n",
        "\n",
        "8. What are logical operators in Python?\n",
        "\n",
        "  * Logical operators in Python are used to combine multiple conditions (Boolean expressions) and return True or False based on the logic.\n",
        "  Operators are special symbols or keywords that are used to carry out specific actions on numbers or variables in Python expressions.\n",
        "Python supports various types of operators, including arithmetic operators (+, -, *, /), comparison operators (==, !=, <, >), logical operators (and, or, not), assignment operators (=, +=, -=, *=, /=), etc.\n",
        "Operators have precedence and associativity rules that determine the order of evaluation in expressions.\n",
        "\n",
        "\n",
        "9. What is type casting in Python?\n",
        "\n",
        "  * Type casting in Python is the process of converting one data type into another.\n",
        "\n",
        "   - This is useful when you want to perform operations that require values to be in a specific format\n",
        "\n",
        "\n",
        "\n",
        "10. What is the difference between implicit and explicit type casting?\n",
        "\n",
        "  -> Implicit Type Casting (Automatic)\n",
        "Done automatically by Python\n",
        "\n",
        "    - Happens when mixing types where no data loss occurs\n",
        "\n",
        "  -> Explicit Type Casting (Manual)\n",
        "Done manually by the programmer\n",
        "\n",
        "  - Use built-in functions like int(), float(), str(), etc.\n",
        "\n",
        "\n",
        "\n",
        "11. What is the purpose of conditional statements in Python?\n",
        "\n",
        "  * The purpose of conditional statements in Python is to allow your program to make decisions and execute different blocks of code based on certain conditions.They add logic and flexibility to your programs.\n",
        "Enable your code to respond differently to different inputs or situations.\n",
        "Help control the flow of execution by deciding which code runs.\n",
        "\n",
        "\n",
        "\n",
        "\n",
        "\n",
        "12. How does the elif statement work?\n",
        "\n",
        "  * The elif (short for \"else if\") statement is used in Python to check multiple conditions after an initial if statement.\n",
        "  * Python checks the first if condition.\n",
        "  If the if condition is True, it runs that block and skips the rest.\n",
        "    If the if condition is False, it checks the next elif condition.\n",
        "It continues checking elif conditions in order, running the block of the first one that is True.\n",
        "If none of the if or elif conditions are True, it runs the optional else block.\n",
        "\n",
        "\n",
        "\n",
        "\n",
        "13. What is the difference between for and while loops?\n",
        "\n",
        "  * A for loop is used when you know in advance how many times you want to repeat an action — typically used to iterate over sequences like lists, strings, or ranges.\n",
        "\n",
        "  * A while loop continues to run as long as a condition is True. Use it when you don't know how many times the loop should run.\n",
        "\n",
        "\n",
        "\n",
        "14. Describe a scenario where a while loop is more suitable than a for loop?\n",
        "\n",
        "  * A while loop is more suitable when you don’t know ahead of time how many iterations are needed — the loop should continue until a condition is met.\n",
        " * A for loop is better when the number of iterations is fixed or known, like looping over a list or using range().\n",
        "\n",
        "    In this scenario, the number of attempts is unknown and condition-based, making while the better choice.\n",
        "\n",
        "\n",
        "\n",
        "\n",
        "\n",
        "\n",
        "\n",
        "\n"
      ],
      "metadata": {
        "id": "te8tI5lizuTx"
      }
    },
    {
      "cell_type": "code",
      "source": [
        "#practical question\n",
        "'''\n",
        "1.Write a Python program to print \"Hello, World!\n",
        "'''\n",
        "print(\"Hello World\")"
      ],
      "metadata": {
        "colab": {
          "base_uri": "https://localhost:8080/"
        },
        "id": "9Vnnl0wB1ByP",
        "outputId": "c7234247-6420-4c47-83ca-4968daccb7fc"
      },
      "execution_count": 3,
      "outputs": [
        {
          "output_type": "stream",
          "name": "stdout",
          "text": [
            "Hello World\n"
          ]
        }
      ]
    },
    {
      "cell_type": "code",
      "source": [
        "'''\n",
        "2.Write a Python program that displays your name and age?\n",
        "'''\n",
        "print(\"My name is Aditya Kumar Nayak\")\n",
        "print(\"My age is 20\")"
      ],
      "metadata": {
        "colab": {
          "base_uri": "https://localhost:8080/"
        },
        "id": "6WELY_xppLn_",
        "outputId": "830be79c-1d55-472c-a6b7-ca2a313129bb"
      },
      "execution_count": 4,
      "outputs": [
        {
          "output_type": "stream",
          "name": "stdout",
          "text": [
            "My name is Aditya Kumar Nayak\n",
            "My age is 20\n"
          ]
        }
      ]
    },
    {
      "cell_type": "code",
      "source": [
        "'''\n",
        "3.Write code to print all the pre-defined keywords in Python using the keyword library\n",
        "'''\n",
        "help('keywords')\n"
      ],
      "metadata": {
        "colab": {
          "base_uri": "https://localhost:8080/"
        },
        "id": "0cZO0Qs4phlp",
        "outputId": "7e54c60a-1a58-402d-96a7-080c7d72e37b"
      },
      "execution_count": 8,
      "outputs": [
        {
          "output_type": "stream",
          "name": "stdout",
          "text": [
            "\n",
            "Here is a list of the Python keywords.  Enter any keyword to get more help.\n",
            "\n",
            "False               class               from                or\n",
            "None                continue            global              pass\n",
            "True                def                 if                  raise\n",
            "and                 del                 import              return\n",
            "as                  elif                in                  try\n",
            "assert              else                is                  while\n",
            "async               except              lambda              with\n",
            "await               finally             nonlocal            yield\n",
            "break               for                 not                 \n",
            "\n"
          ]
        }
      ]
    },
    {
      "cell_type": "code",
      "source": [
        "'''\n",
        "4.Write a program that checks if a given word is a Python keyword.\n",
        "'''\n",
        "import keyword\n",
        "\n",
        "word = input(\"Enter a word: \")\n",
        "\n",
        "if keyword.iskeyword(word):\n",
        "    print(\"Yes, it's a Python keyword.\")\n",
        "else:\n",
        "    print(\"No, it's not a Python keyword.\")\n"
      ],
      "metadata": {
        "colab": {
          "base_uri": "https://localhost:8080/"
        },
        "id": "uw7OGBVl7c6S",
        "outputId": "73f047d4-77a8-49a3-a38d-f0926b44b64c"
      },
      "execution_count": 9,
      "outputs": [
        {
          "output_type": "stream",
          "name": "stdout",
          "text": [
            "Enter a word: if\n",
            "Yes, it's a Python keyword.\n"
          ]
        }
      ]
    },
    {
      "cell_type": "code",
      "source": [
        "'''\n",
        "5. Create a list and tuple in Python, and demonstrate how attempting to change an element works differently\n",
        "for each\n",
        "'''\n",
        "my_list = [1, 2, 3]\n",
        "print(\"Original list:\", my_list)\n",
        "my_list[1] = 20\n",
        "print(\"List after change:\", my_list)\n",
        "my_tuple = (1, 2, 3)\n",
        "print(\"\\nOriginal tuple:\", my_tuple)\n",
        "\n",
        "try:\n",
        "    my_tuple[1] = 20\n",
        "except TypeError as e:\n",
        "    print(\"Error when changing tuple element:\", e)\n"
      ],
      "metadata": {
        "colab": {
          "base_uri": "https://localhost:8080/"
        },
        "id": "tJsH_fdQ8ywh",
        "outputId": "20c0a053-62a6-432e-93c1-cf9c8d04106d"
      },
      "execution_count": 10,
      "outputs": [
        {
          "output_type": "stream",
          "name": "stdout",
          "text": [
            "Original list: [1, 2, 3]\n",
            "List after change: [1, 20, 3]\n",
            "\n",
            "Original tuple: (1, 2, 3)\n",
            "Error when changing tuple element: 'tuple' object does not support item assignment\n"
          ]
        }
      ]
    },
    {
      "cell_type": "code",
      "source": [
        " '''\n",
        " 6.Write a function to demonstrate the behavior of mutable and immutable arguments.\n",
        " '''\n",
        " def modify_arguments(immutable_arg, mutable_arg):\n",
        "    print(\"Inside function before modification:\")\n",
        "    print(\"Immutable arg:\", immutable_arg)\n",
        "    print(\"Mutable arg:\", mutable_arg)\n",
        "\n",
        "    immutable_arg += 10\n",
        "    mutable_arg.append(100)\n",
        "\n",
        "    print(\"\\nInside function after modification:\")\n",
        "    print(\"Immutable arg:\", immutable_arg)\n",
        "    print(\"Mutable arg:\", mutable_arg)\n",
        "\n",
        "immutable_value = 5\n",
        "mutable_value = [1, 2, 3]\n",
        "\n",
        "print(\"Before function call:\")\n",
        "print(\"Immutable value:\", immutable_value)\n",
        "print(\"Mutable value:\", mutable_value)\n",
        "\n",
        "modify_arguments(immutable_value, mutable_value)\n",
        "\n",
        "print(\"\\nAfter function call:\")\n",
        "print(\"Immutable value:\", immutable_value)\n",
        "print(\"Mutable value:\", mutable_value)\n"
      ],
      "metadata": {
        "colab": {
          "base_uri": "https://localhost:8080/"
        },
        "id": "GJvfxTqt9d5r",
        "outputId": "311c2c05-9d69-4bf5-f655-ab100b84b3d9"
      },
      "execution_count": 1,
      "outputs": [
        {
          "output_type": "stream",
          "name": "stdout",
          "text": [
            "Before function call:\n",
            "Immutable value: 5\n",
            "Mutable value: [1, 2, 3]\n",
            "Inside function before modification:\n",
            "Immutable arg: 5\n",
            "Mutable arg: [1, 2, 3]\n",
            "\n",
            "Inside function after modification:\n",
            "Immutable arg: 15\n",
            "Mutable arg: [1, 2, 3, 100]\n",
            "\n",
            "After function call:\n",
            "Immutable value: 5\n",
            "Mutable value: [1, 2, 3, 100]\n"
          ]
        }
      ]
    },
    {
      "cell_type": "code",
      "source": [
        "'''\n",
        "7. Write a program that performs basic arithmetic operations on two user-input numbers\n",
        "'''\n",
        "def arithmetic_operations():\n",
        "    num1 = float(input(\"Enter the first number: \"))\n",
        "    num2 = float(input(\"Enter the second number: \"))\n",
        "\n",
        "    addition = num1 + num2\n",
        "    subtraction = num1 - num2\n",
        "    multiplication = num1 * num2\n",
        "\n",
        "    if num2 != 0:\n",
        "        division = num1 / num2\n",
        "        modulus = num1 % num2\n",
        "    else:\n",
        "        division = \"Undefined (division by zero)\"\n",
        "        modulus = \"Undefined (modulus by zero)\"\n",
        "\n",
        "\n",
        "    print(\"\\nResults:\")\n",
        "    print(f\"Addition: {num1} + {num2} = {addition}\")\n",
        "    print(f\"Subtraction: {num1} - {num2} = {subtraction}\")\n",
        "    print(f\"Multiplication: {num1} * {num2} = {multiplication}\")\n",
        "    print(f\"Division: {division}\")\n",
        "    print(f\"Modulus: {modulus}\")\n",
        "\n",
        "arithmetic_operations()\n"
      ],
      "metadata": {
        "colab": {
          "base_uri": "https://localhost:8080/"
        },
        "id": "oKtgGThKhapm",
        "outputId": "0cce0e27-fe63-4f46-bb64-e7e2c1765482"
      },
      "execution_count": 6,
      "outputs": [
        {
          "output_type": "stream",
          "name": "stdout",
          "text": [
            "Enter the first number: 5\n",
            "Enter the second number: 6\n",
            "\n",
            "Results:\n",
            "Addition: 5.0 + 6.0 = 11.0\n",
            "Subtraction: 5.0 - 6.0 = -1.0\n",
            "Multiplication: 5.0 * 6.0 = 30.0\n",
            "Division: 0.8333333333333334\n",
            "Modulus: 5.0\n"
          ]
        }
      ]
    },
    {
      "cell_type": "code",
      "source": [
        "'''\n",
        "8.Write a program to demonstrate the use of logical operators.\n",
        "'''\n",
        "def logical_operators_demo():\n",
        "    a = int(input(\"Enter first number (0 or 1): \"))\n",
        "    b = int(input(\"Enter second number (0 or 1): \"))\n",
        "\n",
        "    a_bool = bool(a)\n",
        "    b_bool = bool(b)\n",
        "\n",
        "    print(\"\\nLogical Operations Results:\")\n",
        "    print(f\"{a_bool} AND {b_bool} => {a_bool and b_bool}\")\n",
        "    print(f\"{a_bool} OR {b_bool} => {a_bool or b_bool}\")\n",
        "    print(f\"NOT {a_bool} => {not a_bool}\")\n",
        "    print(f\"NOT {b_bool} => {not b_bool}\")\n",
        "\n",
        "logical_operators_demo()\n"
      ],
      "metadata": {
        "colab": {
          "base_uri": "https://localhost:8080/"
        },
        "id": "jI6_IHiShzyZ",
        "outputId": "f02ba400-f6c8-444f-9970-7be2b1b638ae"
      },
      "execution_count": 7,
      "outputs": [
        {
          "output_type": "stream",
          "name": "stdout",
          "text": [
            "Enter first number (0 or 1): 1\n",
            "Enter second number (0 or 1): 0\n",
            "\n",
            "Logical Operations Results:\n",
            "True AND False => False\n",
            "True OR False => True\n",
            "NOT True => False\n",
            "NOT False => True\n"
          ]
        }
      ]
    },
    {
      "cell_type": "code",
      "source": [
        "'''\n",
        "9.Write a Python program to convert user input from string to integer, float, and boolean types?\n",
        "'''\n",
        "def convert_input_types():\n",
        "    user_input = input(\"Enter a value: \")\n",
        "\n",
        "\n",
        "    try:\n",
        "        int_value = int(user_input)\n",
        "        print(f\"Integer conversion: {int_value}\")\n",
        "    except ValueError:\n",
        "        print(\"Cannot convert input to integer.\")\n",
        "\n",
        "\n",
        "    try:\n",
        "        float_value = float(user_input)\n",
        "        print(f\"Float conversion: {float_value}\")\n",
        "    except ValueError:\n",
        "        print(\"Cannot convert input to float.\")\n",
        "\n",
        "\n",
        "    bool_value = user_input.strip().lower() not in (\"\", \"0\", \"false\", \"none\")\n",
        "    print(f\"Boolean conversion: {bool_value}\")\n",
        "\n",
        "convert_input_types()\n",
        "\n"
      ],
      "metadata": {
        "colab": {
          "base_uri": "https://localhost:8080/"
        },
        "id": "DvNULVIYiOi2",
        "outputId": "3ea4b45c-96b2-4de7-e307-517794811525"
      },
      "execution_count": 8,
      "outputs": [
        {
          "output_type": "stream",
          "name": "stdout",
          "text": [
            "Enter a value: 21\n",
            "Integer conversion: 21\n",
            "Float conversion: 21.0\n",
            "Boolean conversion: True\n"
          ]
        }
      ]
    },
    {
      "cell_type": "code",
      "source": [
        "'''\n",
        "10.Write code to demonstrate type casting with list elements.\n",
        "'''\n",
        "def type_cast_list_elements():\n",
        "    str_list = ['1', '2', '3', '4', '5']\n",
        "\n",
        "    print(\"Original list (strings):\", str_list)\n",
        "\n",
        "    int_list = [int(item) for item in str_list]\n",
        "    print(\"After casting to integers:\", int_list)\n",
        "\n",
        "\n",
        "    float_list = [float(item) for item in int_list]\n",
        "    print(\"After casting to floats:\", float_list)\n",
        "\n",
        "\n",
        "    bool_list = [bool(item) for item in int_list]\n",
        "    print(\"After casting to booleans:\", bool_list)\n",
        "\n",
        "\n",
        "type_cast_list_elements()\n"
      ],
      "metadata": {
        "colab": {
          "base_uri": "https://localhost:8080/"
        },
        "id": "krZC5fe_nGOD",
        "outputId": "4f589da2-6cc8-4e00-ee48-344595e05103"
      },
      "execution_count": 14,
      "outputs": [
        {
          "output_type": "stream",
          "name": "stdout",
          "text": [
            "Original list (strings): ['1', '2', '3', '4', '5']\n",
            "After casting to integers: [1, 2, 3, 4, 5]\n",
            "After casting to floats: [1.0, 2.0, 3.0, 4.0, 5.0]\n",
            "After casting to booleans: [True, True, True, True, True]\n"
          ]
        }
      ]
    },
    {
      "cell_type": "code",
      "source": [
        "'''\n",
        "11.Write a program that checks if a number is positive, negative, or zero.\n",
        "'''\n",
        "def check_number():\n",
        "    num = float(input(\"Enter a number: \"))\n",
        "\n",
        "    if num > 0:\n",
        "        print(\"The number is positive.\")\n",
        "    elif num < 0:\n",
        "        print(\"The number is negative.\")\n",
        "    else:\n",
        "        print(\"The number is zero.\")\n",
        "\n",
        "\n",
        "check_number()\n"
      ],
      "metadata": {
        "colab": {
          "base_uri": "https://localhost:8080/"
        },
        "id": "tFtqrEihnSx3",
        "outputId": "42f7c25f-e30d-482b-acb7-d8bf4c2d442b"
      },
      "execution_count": 15,
      "outputs": [
        {
          "output_type": "stream",
          "name": "stdout",
          "text": [
            "Enter a number: 5\n",
            "The number is positive.\n"
          ]
        }
      ]
    },
    {
      "cell_type": "code",
      "source": [
        "'''\n",
        "12.Write a for loop to print numbers from 1 to 10.\n",
        "'''\n",
        "for i in range(1, 11):\n",
        "    print(i)\n"
      ],
      "metadata": {
        "colab": {
          "base_uri": "https://localhost:8080/"
        },
        "id": "ekslqqCknZC2",
        "outputId": "ff1ab119-b02a-4295-fd70-5d255d69184e"
      },
      "execution_count": 10,
      "outputs": [
        {
          "output_type": "stream",
          "name": "stdout",
          "text": [
            "1\n",
            "2\n",
            "3\n",
            "4\n",
            "5\n",
            "6\n",
            "7\n",
            "8\n",
            "9\n",
            "10\n"
          ]
        }
      ]
    },
    {
      "cell_type": "code",
      "source": [
        "'''\n",
        "13.Write a Python program to find the sum of all even numbers between 1 and 50\n",
        "'''\n",
        "def sum_even_numbers():\n",
        "    total = 0\n",
        "    for i in range(1, 51):\n",
        "        if i % 2 == 0:\n",
        "            total += i\n",
        "    print(\"Sum of even numbers from 1 to 50 is:\", total)\n",
        "\n",
        "\n",
        "sum_even_numbers()\n"
      ],
      "metadata": {
        "colab": {
          "base_uri": "https://localhost:8080/"
        },
        "id": "eUFFGjnvniNU",
        "outputId": "b0bd9602-4358-4ec8-d33f-83a56d7bdbdc"
      },
      "execution_count": 11,
      "outputs": [
        {
          "output_type": "stream",
          "name": "stdout",
          "text": [
            "Sum of even numbers from 1 to 50 is: 650\n"
          ]
        }
      ]
    },
    {
      "cell_type": "code",
      "source": [
        "'''\n",
        "14.Write a program to reverse a string using a while loop.\n",
        "'''\n",
        "def reverse_string():\n",
        "    user_input = input(\"Enter a string: \")\n",
        "    reversed_str = \"\"\n",
        "    index = len(user_input) - 1\n",
        "\n",
        "    while index >= 0:\n",
        "        reversed_str += user_input[index]\n",
        "        index -= 1\n",
        "\n",
        "    print(\"Reversed string:\", reversed_str)\n",
        "\n",
        "reverse_string()\n"
      ],
      "metadata": {
        "colab": {
          "base_uri": "https://localhost:8080/"
        },
        "id": "B5T3O-Zvnm88",
        "outputId": "96c67898-15ef-4b2d-c285-481d72f28763"
      },
      "execution_count": 12,
      "outputs": [
        {
          "output_type": "stream",
          "name": "stdout",
          "text": [
            "Enter a string: aditya\n",
            "Reversed string: aytida\n"
          ]
        }
      ]
    },
    {
      "cell_type": "code",
      "source": [
        "'''\n",
        "15.Write a Python program to calculate the factorial of a number provided by the user using a while loop.\n",
        "'''\n",
        "def factorial_while():\n",
        "    num = int(input(\"Enter a non-negative integer: \"))\n",
        "\n",
        "    if num < 0:\n",
        "        print(\"Factorial is not defined for negative numbers.\")\n",
        "        return\n",
        "\n",
        "    factorial = 1\n",
        "    i = 1\n",
        "\n",
        "    while i <= num:\n",
        "        factorial *= i\n",
        "        i += 1\n",
        "\n",
        "    print(f\"The factorial of {num} is {factorial}\")\n",
        "\n",
        "factorial_while()\n"
      ],
      "metadata": {
        "colab": {
          "base_uri": "https://localhost:8080/"
        },
        "id": "sL-Y7Re_nr7b",
        "outputId": "9e4a5391-006d-420a-b855-16c936a2311e"
      },
      "execution_count": 9,
      "outputs": [
        {
          "output_type": "stream",
          "name": "stdout",
          "text": [
            "Enter a non-negative integer: 5\n",
            "The factorial of 5 is 120\n"
          ]
        }
      ]
    }
  ]
}